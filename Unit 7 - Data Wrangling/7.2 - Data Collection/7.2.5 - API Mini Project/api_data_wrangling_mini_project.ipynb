{
 "cells": [
  {
   "cell_type": "markdown",
   "metadata": {},
   "source": [
    "This exercise will require you to pull some data from https://data.nasdaq.com/ (formerly Quandl API)."
   ]
  },
  {
   "cell_type": "markdown",
   "metadata": {},
   "source": [
    "As a first step, you will need to register a free account on the https://data.nasdaq.com/ website."
   ]
  },
  {
   "cell_type": "markdown",
   "metadata": {},
   "source": [
    "After you register, you will be provided with a unique API key, that you should store:\n",
    "\n",
    "*Note*: Use a `.env` file and put your key in there and `python-dotenv` to access it in this notebook. \n",
    "\n",
    "The code below uses a key that was used when generating this project but has since been deleted. Never submit your keys to source control. There is a `.env-example` file in this repository to illusrtate what you need. Copy that to a file called `.env` and use your own api key in that `.env` file. Make sure you also have a `.gitignore` file with a line for `.env` added to it. \n",
    "\n",
    "The standard Python gitignore is [here](https://github.com/github/gitignore/blob/master/Python.gitignore) you can just copy that. "
   ]
  },
  {
   "cell_type": "code",
   "execution_count": 1,
   "metadata": {},
   "outputs": [],
   "source": [
    "# get api key from your .env file\n",
    "import os\n",
    "from dotenv import load_dotenv\n",
    "\n",
    "load_dotenv()\n",
    "API_KEY = os.getenv('NASDAQ_API_KEY')\n",
    "\n",
    "#print(API_KEY)"
   ]
  },
  {
   "cell_type": "markdown",
   "metadata": {},
   "source": [
    "Nasdaq Data has a large number of data sources, but, unfortunately, most of them require a Premium subscription. Still, there are also a good number of free datasets."
   ]
  },
  {
   "cell_type": "markdown",
   "metadata": {},
   "source": [
    "For this mini project, we will focus on equities data from the Frankfurt Stock Exhange (FSE), which is available for free. We'll try and analyze the stock prices of a company called Carl Zeiss Meditec, which manufactures tools for eye examinations, as well as medical lasers for laser eye surgery: https://www.zeiss.com/meditec/int/home.html. The company is listed under the stock ticker AFX_X."
   ]
  },
  {
   "cell_type": "markdown",
   "metadata": {},
   "source": [
    "You can find the detailed Nasdaq Data API instructions here: https://docs.data.nasdaq.com/docs/in-depth-usage"
   ]
  },
  {
   "cell_type": "markdown",
   "metadata": {},
   "source": [
    "While there is a dedicated Python package for connecting to the Nasdaq API, we would prefer that you use the *requests* package, which can be easily downloaded using *pip* or *conda*. You can find the documentation for the package here: http://docs.python-requests.org/en/master/ "
   ]
  },
  {
   "cell_type": "markdown",
   "metadata": {},
   "source": [
    "Finally, apart from the *requests* package, you are encouraged to not use any third party Python packages, such as *pandas*, and instead focus on what's available in the Python Standard Library (the *collections* module might come in handy: https://pymotw.com/3/collections/).\n",
    "Also, since you won't have access to DataFrames, you are encouraged to us Python's native data structures - preferably dictionaries, though some questions can also be answered using lists.\n",
    "You can read more on these data structures here: https://docs.python.org/3/tutorial/datastructures.html"
   ]
  },
  {
   "cell_type": "markdown",
   "metadata": {},
   "source": [
    "Keep in mind that the JSON responses you will be getting from the API map almost one-to-one to Python's dictionaries. Unfortunately, they can be very nested, so make sure you read up on indexing dictionaries in the documentation provided above."
   ]
  },
  {
   "cell_type": "code",
   "execution_count": 2,
   "metadata": {},
   "outputs": [],
   "source": [
    "# First, import the relevant modules\n",
    "import requests"
   ]
  },
  {
   "cell_type": "markdown",
   "metadata": {},
   "source": [
    "Note: API's can change a bit with each version, for this exercise it is reccomended to use the nasdaq api at `https://data.nasdaq.com/api/v3/`. This is the same api as what used to be quandl so `https://www.quandl.com/api/v3/` should work too.\n",
    "\n",
    "Hint: We are looking for the `AFX_X` data on the `datasets/FSE/` dataset."
   ]
  },
  {
   "cell_type": "code",
   "execution_count": 3,
   "metadata": {},
   "outputs": [],
   "source": [
    "# Now, call the Nasdaq API and pull out a small sample of the data (only one day) to get a glimpse\n",
    "# into the JSON structure that will be returned\n",
    "url = 'https://data.nasdaq.com/api/v3/datasets/FSE/AFX_X.json?limit=1&api_key=' + API_KEY\n",
    "r = requests.get(url)"
   ]
  },
  {
   "cell_type": "code",
   "execution_count": 4,
   "metadata": {},
   "outputs": [
    {
     "name": "stdout",
     "output_type": "stream",
     "text": [
      "dict_keys(['dataset'])\n",
      "dict_keys(['id', 'dataset_code', 'database_code', 'name', 'description', 'refreshed_at', 'newest_available_date', 'oldest_available_date', 'column_names', 'frequency', 'type', 'premium', 'limit', 'transform', 'column_index', 'start_date', 'end_date', 'data', 'collapse', 'order', 'database_id'])\n",
      "id: 10095370\n",
      "dataset_code: AFX_X\n",
      "database_code: FSE\n",
      "name: Carl Zeiss Meditec (AFX_X)\n",
      "description: Stock Prices for Carl Zeiss Meditec (2020-11-02) from the Frankfurt Stock Exchange.<br><br>Trading System: Xetra<br><br>ISIN: DE0005313704\n",
      "refreshed_at: 2020-12-01T14:48:09.907Z\n",
      "newest_available_date: 2020-12-01\n",
      "oldest_available_date: 2000-06-07\n",
      "column_names: ['Date', 'Open', 'High', 'Low', 'Close', 'Change', 'Traded Volume', 'Turnover', 'Last Price of the Day', 'Daily Traded Units', 'Daily Turnover']\n",
      "frequency: daily\n",
      "type: Time Series\n",
      "premium: False\n",
      "limit: 1\n",
      "transform: None\n",
      "column_index: None\n",
      "start_date: 2000-06-07\n",
      "end_date: 2020-12-01\n",
      "data: [['2020-12-01', 112.2, 112.2, 111.5, 112.0, None, 51.0, 5703.0, None, None, None]]\n",
      "collapse: None\n",
      "order: None\n",
      "database_id: 6129\n"
     ]
    }
   ],
   "source": [
    "# Inspect the JSON structure of the object you created, and take note of how nested it is,\n",
    "# as well as the overall structure\n",
    "json_data = r.json()\n",
    "\n",
    "# Returned a dict with one key 'dataset'\n",
    "print(json_data.keys())\n",
    "\n",
    "# Within 'dataset', there are 21 keys\n",
    "print(json_data['dataset'].keys())\n",
    "\n",
    "# There is more general information about AFX_X from the FSE database, such as the description and id\n",
    "# Sample of one day can be seen in 'data', and as of the time of writing this, the date is shown as 2020-12-01\n",
    "for k in json_data['dataset'].keys():\n",
    "    print(k + \": \" + str(json_data['dataset'][k]))"
   ]
  },
  {
   "cell_type": "markdown",
   "metadata": {},
   "source": [
    "## Mini Project Tasks"
   ]
  },
  {
   "cell_type": "markdown",
   "metadata": {},
   "source": [
    "### Instructions"
   ]
  },
  {
   "cell_type": "markdown",
   "metadata": {},
   "source": [
    "These are your tasks for this mini project:\n",
    "\n",
    "1. Collect data from the Franfurt Stock Exchange, for the ticker AFX_X, for the whole year 2017 (keep in mind that the date format is YYYY-MM-DD).\n",
    "2. Convert the returned JSON object into a Python dictionary.\n",
    "3. Calculate what the highest and lowest opening prices were for the stock in this period.\n",
    "4. What was the largest change in any one day (based on High and Low price)?\n",
    "5. What was the largest change between any two days (based on Closing Price)?\n",
    "6. What was the average daily trading volume during this year?\n",
    "7. (Optional) What was the median trading volume during this year. (Note: you may need to implement your own function for calculating the median.)"
   ]
  },
  {
   "cell_type": "markdown",
   "metadata": {},
   "source": [
    "### Response"
   ]
  },
  {
   "cell_type": "markdown",
   "metadata": {},
   "source": [
    "#### 1. Collect data from Frankfurst Stock Exchange for AFX_X for year 2017"
   ]
  },
  {
   "cell_type": "code",
   "execution_count": 5,
   "metadata": {},
   "outputs": [],
   "source": [
    "# 1. Collect data from Frankfurst Stock Exchange for AFX_X for year 2017\n",
    "mini_url = 'https://data.nasdaq.com/api/v3/datasets/FSE/AFX_X.json?start_date=2017-01-01&end_date=2017-12-31&api_key=' + API_KEY\n",
    "mini_r = requests.get(mini_url)"
   ]
  },
  {
   "cell_type": "markdown",
   "metadata": {},
   "source": [
    "#### 2. Convert JSON object into a Python dict"
   ]
  },
  {
   "cell_type": "code",
   "execution_count": 6,
   "metadata": {},
   "outputs": [
    {
     "data": {
      "text/plain": [
       "dict"
      ]
     },
     "execution_count": 6,
     "metadata": {},
     "output_type": "execute_result"
    }
   ],
   "source": [
    "# 2. Returned data saved as dict `mini_json`\n",
    "mini_json = (mini_r.json())\n",
    "type(mini_json)"
   ]
  },
  {
   "cell_type": "code",
   "execution_count": 7,
   "metadata": {
    "scrolled": true
   },
   "outputs": [
    {
     "name": "stdout",
     "output_type": "stream",
     "text": [
      "id: 10095370\n",
      "dataset_code: AFX_X\n",
      "database_code: FSE\n",
      "name: Carl Zeiss Meditec (AFX_X)\n",
      "description: Stock Prices for Carl Zeiss Meditec (2020-11-02) from the Frankfurt Stock Exchange.<br><br>Trading System: Xetra<br><br>ISIN: DE0005313704\n",
      "refreshed_at: 2020-12-01T14:48:09.907Z\n",
      "newest_available_date: 2020-12-01\n",
      "oldest_available_date: 2000-06-07\n",
      "column_names: ['Date', 'Open', 'High', 'Low', 'Close', 'Change', 'Traded Volume', 'Turnover', 'Last Price of the Day', 'Daily Traded Units', 'Daily Turnover']\n",
      "frequency: daily\n",
      "type: Time Series\n",
      "premium: False\n",
      "limit: None\n",
      "transform: None\n",
      "column_index: None\n",
      "start_date: 2017-01-01\n",
      "end_date: 2017-12-31\n",
      "data: <class 'list'>\n",
      "collapse: None\n",
      "order: None\n",
      "database_id: 6129\n"
     ]
    }
   ],
   "source": [
    "# Peeking the json\n",
    "for k in mini_json['dataset'].keys():\n",
    "    if k == 'data':\n",
    "        print(k + ': ' + str(type(mini_json['dataset'][k])))\n",
    "    else:\n",
    "        print(k + ': ' + str(mini_json['dataset'][k]))"
   ]
  },
  {
   "cell_type": "code",
   "execution_count": 8,
   "metadata": {},
   "outputs": [],
   "source": [
    "# list `data_list` containing dict of 'column_names':'data'\n",
    "col_names = mini_json['dataset']['column_names']\n",
    "data_list = []\n",
    "for e in mini_json['dataset']['data']:\n",
    "    data_list.append(dict(zip(col_names,e)))\n"
   ]
  },
  {
   "cell_type": "markdown",
   "metadata": {},
   "source": [
    "#### 3. Calculate the highest and lowest opening prices in 2017"
   ]
  },
  {
   "cell_type": "code",
   "execution_count": 9,
   "metadata": {},
   "outputs": [],
   "source": [
    "def highlo_price(data_list, col_name):\n",
    "    \"\"\"\n",
    "    This function returns the highest price, lowest price, and possibly excluded dates, of a given column.\n",
    "    It accepts a list of dictionaries, data_list, which contains the keys col_name and 'Date'.\n",
    "    \n",
    "    data_list is a list of dictionaries, in which the keys col_name and 'Date' can be found.\n",
    "    col_name is a string corresponding to the key to search for the target highest and lowest values.\n",
    "    \"\"\"\n",
    "    # Other errors to check for could include index and length issues\n",
    "    # Variable instantiation\n",
    "    highest_price = 0\n",
    "    lowest_price = None\n",
    "    i = 0\n",
    "    excluded_dates = []\n",
    "    while lowest_price is None and i < len(data_list):\n",
    "        lowest_price = data_list[i][col_name]\n",
    "        i = i + 1\n",
    "    \n",
    "    # Comparing values in data\n",
    "    for e in data_list:\n",
    "        open_price = e[col_name]\n",
    "        try:\n",
    "            if open_price > highest_price:\n",
    "                highest_price = open_price\n",
    "            if open_price < lowest_price:\n",
    "                lowest_price = open_price\n",
    "        except TypeError:\n",
    "            excluded_dates.append((e['Date'],str(e[col_name])))\n",
    "    \n",
    "    return (highest_price, lowest_price, excluded_dates)"
   ]
  },
  {
   "cell_type": "code",
   "execution_count": 10,
   "metadata": {},
   "outputs": [
    {
     "name": "stdout",
     "output_type": "stream",
     "text": [
      "Highest Opening Price: 53.11\n",
      "Lowest Opening Price: 34.00\n",
      "Dates excluded: [('2017-05-01', 'None'), ('2017-04-17', 'None'), ('2017-04-14', 'None')]\n"
     ]
    }
   ],
   "source": [
    "# 3. Highest and Lowest opening prices in 2017\n",
    "highest_price, lowest_price, excluded_dates = highlo_price(data_list, 'Open')\n",
    "\n",
    "print(\"Highest Opening Price: %.2f\" % highest_price)\n",
    "print(\"Lowest Opening Price: %.2f\" % lowest_price)\n",
    "print(\"Dates excluded: \" + str(excluded_dates))"
   ]
  },
  {
   "cell_type": "markdown",
   "metadata": {},
   "source": [
    "Highest and lowest opening prices of 2017 were 53.11 and 34.00 respectively."
   ]
  },
  {
   "cell_type": "markdown",
   "metadata": {},
   "source": [
    "#### 4. Find the greatest change in price in single day (high and low price)"
   ]
  },
  {
   "cell_type": "code",
   "execution_count": 11,
   "metadata": {},
   "outputs": [
    {
     "name": "stdout",
     "output_type": "stream",
     "text": [
      "Greatest change in a single day: 2.81\n"
     ]
    }
   ],
   "source": [
    "# 4. Greatest change in single day (high and low price)\n",
    "greatest_diff = 0\n",
    "\n",
    "for e in data_list:\n",
    "    day_diff = e['High'] - e['Low']\n",
    "    if day_diff > greatest_diff:\n",
    "        greatest_diff = day_diff\n",
    "\n",
    "print(\"Greatest change in a single day: %.2f\" % greatest_diff)"
   ]
  },
  {
   "cell_type": "markdown",
   "metadata": {},
   "source": [
    "The largest change in any one day based on the High and Low prices was 2.81."
   ]
  },
  {
   "cell_type": "markdown",
   "metadata": {},
   "source": [
    "#### 5. Find the greatest change in closing price between any two days"
   ]
  },
  {
   "cell_type": "code",
   "execution_count": 12,
   "metadata": {},
   "outputs": [
    {
     "name": "stdout",
     "output_type": "stream",
     "text": [
      "Greatest Change in Closing Price between any 2 days: 19.03\n"
     ]
    }
   ],
   "source": [
    "# 5. Greatest change between any 2 days using closing price\n",
    "highest_close, lowest_close, excluded_dates = highlo_price(data_list, 'Close')\n",
    "greatest_close_change = highest_close - lowest_close\n",
    "print(\"Greatest Change in Closing Price between any 2 days: %.2f\" % greatest_close_change)"
   ]
  },
  {
   "cell_type": "markdown",
   "metadata": {},
   "source": [
    "The largest change between any two days based on Closing Price is 19.03."
   ]
  },
  {
   "cell_type": "markdown",
   "metadata": {},
   "source": [
    "#### 6. Find the average daily trading volume in 2017"
   ]
  },
  {
   "cell_type": "markdown",
   "metadata": {},
   "source": [
    "ADTV for n Days = (Total Volume Traded During n Days) / n"
   ]
  },
  {
   "cell_type": "code",
   "execution_count": 13,
   "metadata": {},
   "outputs": [
    {
     "name": "stdout",
     "output_type": "stream",
     "text": [
      "Average Daily Trading Volume in 2017: ADTV = 89124.34\n"
     ]
    }
   ],
   "source": [
    "# 6. Average daily trading volume in 2017\n",
    "total_vol_traded = 0\n",
    "days = 0\n",
    "for e in data_list:\n",
    "    total_vol_traded += e['Traded Volume']\n",
    "    days += 1\n",
    "\n",
    "adtv = total_vol_traded / days\n",
    "print(\"Average Daily Trading Volume in 2017: ADTV = %.2f\" % adtv)"
   ]
  },
  {
   "cell_type": "markdown",
   "metadata": {},
   "source": [
    "The average daily trading volume in 2017 was 89,124.34."
   ]
  },
  {
   "cell_type": "markdown",
   "metadata": {},
   "source": [
    "#### 7. (Optional) Find the median daily trading volume in 2017"
   ]
  },
  {
   "cell_type": "code",
   "execution_count": 14,
   "metadata": {},
   "outputs": [
    {
     "name": "stdout",
     "output_type": "stream",
     "text": [
      "Median Daily Trading Volume in 2017: 76443.00\n"
     ]
    }
   ],
   "source": [
    "# 7. (Optional) Median daily trading volume in 2017\n",
    "tv_list = []\n",
    "for e in data_list:\n",
    "    tv_list.append(e['Traded Volume'])\n",
    "\n",
    "tv_list.sort()\n",
    "#print(tv_list[int(len(tv_list)/2)])\n",
    "#print(tv_list[int(len(tv_list)/2) + 1])\n",
    "tv_med = (tv_list[int(len(tv_list)/2)] + tv_list[int(len(tv_list)/2) + 1]) / 2.0\n",
    "print(\"Median Daily Trading Volume in 2017: %.2f\" % tv_med)"
   ]
  },
  {
   "cell_type": "markdown",
   "metadata": {},
   "source": [
    "The median trading volume during this year was 76,443.00."
   ]
  }
 ],
 "metadata": {
  "interpreter": {
   "hash": "7635eb1b9d0fe97add78a7368b6b431c09bb8ad5c42e437d64abdd99821c31ae"
  },
  "kernelspec": {
   "display_name": "Python 3 (ipykernel)",
   "language": "python",
   "name": "python3"
  },
  "language_info": {
   "codemirror_mode": {
    "name": "ipython",
    "version": 3
   },
   "file_extension": ".py",
   "mimetype": "text/x-python",
   "name": "python",
   "nbconvert_exporter": "python",
   "pygments_lexer": "ipython3",
   "version": "3.9.13"
  }
 },
 "nbformat": 4,
 "nbformat_minor": 4
}
